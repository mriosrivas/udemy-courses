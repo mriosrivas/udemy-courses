{
 "cells": [
  {
   "cell_type": "markdown",
   "id": "d20d4b1e",
   "metadata": {},
   "source": [
    "# 2. Are paid courses more likely to be highly rated than free courses?\n",
    "In this part I would like to address the question if there's a bias towards the courses that are paid vs. the free courses. Let's see if people that pay for a course are more likely to rate a course higher because he/she paid for it."
   ]
  },
  {
   "cell_type": "code",
   "execution_count": 1,
   "id": "36a04437",
   "metadata": {},
   "outputs": [],
   "source": [
    "import pandas as pd\n",
    "import numpy as np\n",
    "import matplotlib.pyplot as plt\n",
    "import seaborn as sns"
   ]
  },
  {
   "cell_type": "code",
   "execution_count": 2,
   "id": "ee516996",
   "metadata": {},
   "outputs": [],
   "source": [
    "data = pd.read_csv('Course_info.csv')"
   ]
  },
  {
   "cell_type": "code",
   "execution_count": 3,
   "id": "164c66f6",
   "metadata": {},
   "outputs": [],
   "source": [
    "df = data[['id', 'title', 'avg_rating', 'num_reviews', 'language', 'is_paid', 'price']].copy()"
   ]
  },
  {
   "cell_type": "markdown",
   "id": "3998006d",
   "metadata": {},
   "source": [
    "## 2.1 Look at the Distribution\n",
    "We will look at the distribution of paid and free courses and compare its means. We would like to know if there is a difference between both means."
   ]
  },
  {
   "cell_type": "code",
   "execution_count": 4,
   "id": "291651ac",
   "metadata": {},
   "outputs": [],
   "source": [
    "df_pay = df[df['is_paid']==True].copy()\n",
    "df_free = df[df['is_paid']==False].copy()\n",
    "\n",
    "df_pay.rename(columns={'avg_rating':'avg_rating_pay'}, inplace=True)\n",
    "df_free.rename(columns={'avg_rating':'avg_rating_free'}, inplace=True)\n",
    "df_merge = pd.merge(df_pay, df_free, how='outer')"
   ]
  },
  {
   "cell_type": "code",
   "execution_count": 5,
   "id": "238395cc",
   "metadata": {},
   "outputs": [
    {
     "data": {
      "image/png": "[encoded data removed]",
      "text/plain": [
       "<Figure size 432x288 with 1 Axes>"
      ]
     },
     "metadata": {
      "needs_background": "light"
     },
     "output_type": "display_data"
    }
   ],
   "source": [
    "sns.violinplot(data=df_merge[['avg_rating_pay', 'avg_rating_free']], scale='area', inner='box', orient='h')\n",
    "plt.axvline(x=df_merge[['avg_rating_pay']].mean().values, color='C0', linestyle='--', label='mean pay')\n",
    "plt.axvline(x=df_merge[['avg_rating_free']].mean().values, color='C1', linestyle='--', label='mean free')\n",
    "plt.legend(loc='center left')\n",
    "plt.show()"
   ]
  },
  {
   "cell_type": "markdown",
   "id": "9e3f625e",
   "metadata": {},
   "source": [
    "We clearly see that there is a difference between both means. What will be more interesting now, is if we can prove that there is statistical significance in our results. For this, an hypothesis testing is proposed."
   ]
  },
  {
   "cell_type": "markdown",
   "id": "a307f61b",
   "metadata": {},
   "source": [
    "## 2.2 Hypothesis Testing\n",
    "Our *null hypothesis* will be that the rating mean of the paying group is **greater or equal** than the rating mean of the free group.\n",
    "\n",
    "$$H_0: \\ \\mu_{pay} \\geq \\mu_{free}$$\n",
    "$$H_1: \\ \\mu_{pay} \\lt \\mu_{free}$$\n",
    "\n",
    "Or equivalently\n",
    "$$H_0: \\ \\mu_{pay} - \\mu_{free} \\geq 0$$\n",
    "$$H_1: \\ \\mu_{pay} - \\mu_{free} \\lt 0$$\n",
    "\n",
    "To solve this, a bootstrap approach will be used."
   ]
  },
  {
   "cell_type": "code",
   "execution_count": 6,
   "id": "7127b267",
   "metadata": {},
   "outputs": [],
   "source": [
    "df_pay = df[df['is_paid']==True].copy()\n",
    "df_free = df[df['is_paid']==False].copy()"
   ]
  },
  {
   "cell_type": "code",
   "execution_count": 7,
   "id": "3b03d999",
   "metadata": {},
   "outputs": [],
   "source": [
    "df_pay_mean = df_pay.describe().loc[['mean']].drop(\n",
    "    columns=['id', 'price']).rename(\n",
    "    columns={'avg_rating':'avg_rating_pay', 'num_reviews':'num_reviews_pay'})"
   ]
  },
  {
   "cell_type": "code",
   "execution_count": 8,
   "id": "c7d2d7fc",
   "metadata": {},
   "outputs": [],
   "source": [
    "df_free_mean = df_free.describe().loc[['mean']].drop(\n",
    "    columns=['id', 'price']).rename(\n",
    "    columns={'avg_rating':'avg_rating_free', 'num_reviews':'num_reviews_free'})"
   ]
  },
  {
   "cell_type": "code",
   "execution_count": 9,
   "id": "9f9170f2",
   "metadata": {},
   "outputs": [],
   "source": [
    "df_mean = pd.merge(df_pay_mean, df_free_mean, left_index=True, right_index=True)"
   ]
  },
  {
   "cell_type": "code",
   "execution_count": 10,
   "id": "131ef011",
   "metadata": {},
   "outputs": [],
   "source": [
    "df_mean['diff_avg_rating'] = df_mean['avg_rating_pay'] - df_mean['avg_rating_free']"
   ]
  },
  {
   "cell_type": "code",
   "execution_count": 11,
   "id": "9cd58b3f",
   "metadata": {},
   "outputs": [],
   "source": [
    "df_mean['diff_num_reviews'] = df_mean['num_reviews_pay'] - df_mean['num_reviews_free']"
   ]
  },
  {
   "cell_type": "code",
   "execution_count": 12,
   "id": "821f8604",
   "metadata": {},
   "outputs": [
    {
     "data": {
      "text/html": [
       "<style  type=\"text/css\" >\n",
       "#T_1022f_row0_col4{\n",
       "            width:  10em;\n",
       "             height:  80%;\n",
       "        }</style><table id=\"T_1022f_\" ><thead>    <tr>        <th class=\"blank level0\" ></th>        <th class=\"col_heading level0 col0\" >avg_rating_pay</th>        <th class=\"col_heading level0 col1\" >num_reviews_pay</th>        <th class=\"col_heading level0 col2\" >avg_rating_free</th>        <th class=\"col_heading level0 col3\" >num_reviews_free</th>        <th class=\"col_heading level0 col4\" >diff_avg_rating</th>        <th class=\"col_heading level0 col5\" >diff_num_reviews</th>    </tr></thead><tbody>\n",
       "                <tr>\n",
       "                        <th id=\"T_1022f_level0_row0\" class=\"row_heading level0 row0\" >mean</th>\n",
       "                        <td id=\"T_1022f_row0_col0\" class=\"data row0 col0\" >3.700308</td>\n",
       "                        <td id=\"T_1022f_row0_col1\" class=\"data row0 col1\" >237.278644</td>\n",
       "                        <td id=\"T_1022f_row0_col2\" class=\"data row0 col2\" >4.152535</td>\n",
       "                        <td id=\"T_1022f_row0_col3\" class=\"data row0 col3\" >305.589981</td>\n",
       "                        <td id=\"T_1022f_row0_col4\" class=\"data row0 col4\" >-0.452227</td>\n",
       "                        <td id=\"T_1022f_row0_col5\" class=\"data row0 col5\" >-68.311336</td>\n",
       "            </tr>\n",
       "    </tbody></table>"
      ],
      "text/plain": [
       "<pandas.io.formats.style.Styler at 0x7f51042d9910>"
      ]
     },
     "execution_count": 12,
     "metadata": {},
     "output_type": "execute_result"
    }
   ],
   "source": [
    "df_mean.style.bar(subset=['diff_avg_rating'], color=['red', 'green'], axis=0)"
   ]
  },
  {
   "cell_type": "code",
   "execution_count": 13,
   "id": "801a6ff0",
   "metadata": {},
   "outputs": [],
   "source": [
    "pay_means = []\n",
    "free_means = []\n",
    "diff_means = []\n",
    "key = 'avg_rating'\n",
    "samples = 1000\n",
    "\n",
    "for i in range(10000):\n",
    "    pay_mean = np.mean(df_pay.sample(samples)[key])\n",
    "    free_mean = np.mean(df_free.sample(samples)[key])\n",
    "    pay_means.append(pay_mean)\n",
    "    free_means.append(free_mean)\n",
    "    diff_means.append(pay_mean - free_mean)"
   ]
  },
  {
   "cell_type": "code",
   "execution_count": 18,
   "id": "7c9e7e6c",
   "metadata": {},
   "outputs": [
    {
     "data": {
      "image/png": "[encoded data removed]",
      "text/plain": [
       "<Figure size 504x288 with 1 Axes>"
      ]
     },
     "metadata": {
      "needs_background": "light"
     },
     "output_type": "display_data"
    }
   ],
   "source": [
    "plt.rcParams['figure.figsize']=(7,4)\n",
    "sns.histplot(pay_means, color='blue', label='paying reviews')\n",
    "sns.histplot(free_means, color='orange', label='free reviews')\n",
    "plt.legend()\n",
    "plt.title('Distributions of Reviews on Two Groups')\n",
    "plt.grid(axis='x')\n",
    "plt.show()"
   ]
  },
  {
   "cell_type": "code",
   "execution_count": 19,
   "id": "948d6263",
   "metadata": {},
   "outputs": [],
   "source": [
    "diff_normal = np.random.normal(0.0, np.std(diff_means), 10000 )"
   ]
  },
  {
   "cell_type": "code",
   "execution_count": 20,
   "id": "ebeb8948",
   "metadata": {},
   "outputs": [
    {
     "data": {
      "image/png": "[encoded data removed]",
      "text/plain": [
       "<Figure size 504x288 with 1 Axes>"
      ]
     },
     "metadata": {
      "needs_background": "light"
     },
     "output_type": "display_data"
    }
   ],
   "source": [
    "plt.rcParams['figure.figsize']=(7,4)\n",
    "sns.histplot(diff_normal, color='blue', label='Normal Distribution')\n",
    "sns.histplot(diff_means, color='orange', label='Difference of Means')\n",
    "plt.grid(axis='x')\n",
    "plt.legend()\n",
    "plt.show()"
   ]
  },
  {
   "cell_type": "code",
   "execution_count": 21,
   "id": "86b09710",
   "metadata": {},
   "outputs": [],
   "source": [
    "mu = df_pay['avg_rating'].mean() - df_free['avg_rating'].mean()"
   ]
  },
  {
   "cell_type": "code",
   "execution_count": 22,
   "id": "68ff3cb0",
   "metadata": {},
   "outputs": [
    {
     "data": {
      "text/plain": [
       "0.0"
      ]
     },
     "execution_count": 22,
     "metadata": {},
     "output_type": "execute_result"
    }
   ],
   "source": [
    "p_val = (diff_normal < mu).mean()\n",
    "p_val"
   ]
  },
  {
   "cell_type": "code",
   "execution_count": 23,
   "id": "92bb0f66",
   "metadata": {},
   "outputs": [
    {
     "name": "stdout",
     "output_type": "stream",
     "text": [
      "We reject the null.\n"
     ]
    }
   ],
   "source": [
    "if p_val <= 0.05:\n",
    "    print('We reject the null.')\n",
    "else:\n",
    "    print('We accept the null.')"
   ]
  },
  {
   "cell_type": "markdown",
   "id": "bb47169e",
   "metadata": {},
   "source": [
    "## 2.3 Conclusion\n",
    "Based on the results we can see that people who pay for a course in Udemy tend to give a lower rate to a course than people who take a free course in Udemy. It is interesting because my initial preconception was that people who pay for a course would rate the course higher. After these results, maybe the reason for this is that a person who pays for a course expects high quality on it compared to a free one?"
   ]
  },
  {
   "cell_type": "code",
   "execution_count": null,
   "id": "fc0cc152",
   "metadata": {},
   "outputs": [],
   "source": []
  }
 ],
 "metadata": {
  "kernelspec": {
   "display_name": "Python 3 (ipykernel)",
   "language": "python",
   "name": "python3"
  },
  "language_info": {
   "codemirror_mode": {
    "name": "ipython",
    "version": 3
   },
   "file_extension": ".py",
   "mimetype": "text/x-python",
   "name": "python",
   "nbconvert_exporter": "python",
   "pygments_lexer": "ipython3",
   "version": "3.8.12"
  }
 },
 "nbformat": 4,
 "nbformat_minor": 5
}
